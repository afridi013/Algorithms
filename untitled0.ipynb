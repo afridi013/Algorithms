{
  "nbformat": 4,
  "nbformat_minor": 0,
  "metadata": {
    "colab": {
      "name": "Untitled0.ipynb",
      "provenance": [],
      "collapsed_sections": [],
      "authorship_tag": "ABX9TyMcwXGdxCLz4GO9+Uz1Lo9e",
      "include_colab_link": true
    },
    "kernelspec": {
      "name": "python3",
      "display_name": "Python 3"
    }
  },
  "cells": [
    {
      "cell_type": "markdown",
      "metadata": {
        "id": "view-in-github",
        "colab_type": "text"
      },
      "source": [
        "<a href=\"https://colab.research.google.com/gist/afridi013/51ca1d07bd500395788bc76ddff90911/untitled0.ipynb\" target=\"_parent\"><img src=\"https://colab.research.google.com/assets/colab-badge.svg\" alt=\"Open In Colab\"/></a>"
      ]
    },
    {
      "cell_type": "code",
      "metadata": {
        "id": "6gPmt9LeV13u",
        "colab_type": "code",
        "outputId": "5886a75b-8d8f-450d-e724-ec8cc61d6666",
        "colab": {
          "base_uri": "https://localhost:8080/",
          "height": 51
        }
      },
      "source": [
        "a=[12, 1, 23, 4, 4, 34, 11, 49]\n",
        "def insertsort(a):\n",
        "  for j in range(1,len(a)):\n",
        "    key=a[j]\n",
        "    i=j-1\n",
        "    while i>=0 and a[i]>key:\n",
        "      a[i+1]=a[i]\n",
        "      i-=1\n",
        "    a[i+1]=key\n",
        "  \n",
        "  print(a)\n",
        "def countingsort(a):\n",
        "    k=int(max(a))\n",
        "    k+=1\n",
        "    c=[0 for i in range(k)]\n",
        "    b=[0 for i in range(len(a))]\n",
        "    for i in range(len(a)):\n",
        "        c[a[i]]+=1\n",
        "    for i in range(1,k):\n",
        "        c[i]= c[i]+ c[i - 1]\n",
        "    for i in range(len(a)):\n",
        "        b[c[a[i]]-1]=a[i]\n",
        "        c[a[i]]-=1\n",
        "    print(b)\n",
        "\n",
        "def bubblesort(a):\n",
        "    for i in range(len(a)-1):\n",
        "        for j in range(len(a)-1,i,-1):\n",
        "            if a[j] < a[j-1] :\n",
        "                a[j],a[j-1]=a[j-1],a[j]\n",
        "    print(a)\n",
        "\n",
        "def selectionsort(a):\n",
        "    m=max(a)\n",
        "    for i in range(len(a)-1):\n",
        "        mn=m\n",
        "        ml=int()\n",
        "        for j in range(i,len(a)):\n",
        "            if a[j] < mn:\n",
        "                ml=j\n",
        "                mn=a[j]\n",
        "        a[i],a[ml]=a[ml],a[i]\n",
        "    print(a)\n",
        "\n",
        "insertsort(a)\n",
        "countingsort(a)\n",
        "bubblesort(a)\n",
        "selectionsort(a)"
      ],
      "execution_count": 0,
      "outputs": [
        {
          "output_type": "stream",
          "text": [
            "[1, 4, 4, 11, 12, 23, 34, 49]\n",
            "[1, 4, 4, 11, 12, 23, 34, 49]\n"
          ],
          "name": "stdout"
        }
      ]
    },
    {
      "cell_type": "code",
      "metadata": {
        "id": "zEIWbEgKWaSX",
        "colab_type": "code",
        "outputId": "6f959805-502c-4780-eded-4a5d477eb603",
        "colab": {
          "base_uri": "https://localhost:8080/",
          "height": 34
        }
      },
      "source": [
        "def merge():\n",
        "    \n",
        "\n",
        "a=[12, 1, 23, 4, 4, 34, 11, 49]\n",
        "selectionsort(a)\n"
      ],
      "execution_count": 2,
      "outputs": [
        {
          "output_type": "stream",
          "text": [
            "[1, 4, 4, 11, 12, 23, 34, 49]\n"
          ],
          "name": "stdout"
        }
      ]
    }
  ]
}