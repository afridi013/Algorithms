{
  "nbformat": 4,
  "nbformat_minor": 0,
  "metadata": {
    "colab": {
      "name": "Untitled0.ipynb",
      "provenance": [],
      "collapsed_sections": [],
      "authorship_tag": "ABX9TyPJUkJGFV6GXjKzAOJuSwRs",
      "include_colab_link": true
    },
    "kernelspec": {
      "name": "python3",
      "display_name": "Python 3"
    }
  },
  "cells": [
    {
      "cell_type": "markdown",
      "metadata": {
        "id": "view-in-github",
        "colab_type": "text"
      },
      "source": [
        "<a href=\"https://colab.research.google.com/gist/afridi013/51ca1d07bd500395788bc76ddff90911/untitled0.ipynb\" target=\"_parent\"><img src=\"https://colab.research.google.com/assets/colab-badge.svg\" alt=\"Open In Colab\"/></a>"
      ]
    },
    {
      "cell_type": "code",
      "metadata": {
        "id": "6gPmt9LeV13u",
        "colab_type": "code",
        "outputId": "5886a75b-8d8f-450d-e724-ec8cc61d6666",
        "colab": {
          "base_uri": "https://localhost:8080/",
          "height": 51
        }
      },
      "source": [
        "def insertsort(a):\n",
        "  for j in range(1,len(a)):\n",
        "    key=a[j]\n",
        "    i=j-1\n",
        "    while i>=0 and a[i]>key:\n",
        "      a[i+1]=a[i]\n",
        "      i-=1\n",
        "    a[i+1]=key\n",
        "  \n",
        "  print(a)\n",
        "def countingsort(a):\n",
        "    k=int(max(a))\n",
        "    k+=1\n",
        "    c=[0 for i in range(k)]\n",
        "    b=[0 for i in range(len(a))]\n",
        "    for i in range(len(a)):\n",
        "        c[a[i]]+=1\n",
        "    for i in range(1,k):\n",
        "        c[i]= c[i]+ c[i - 1]\n",
        "    for i in range(len(a)):\n",
        "        b[c[a[i]]-1]=a[i]\n",
        "        c[a[i]]-=1\n",
        "    print(b)\n",
        "\n",
        "a=[12, 1, 23, 4, 4, 34, 11, 49]\n",
        "insertsort(a)\n",
        "countingsort(a)"
      ],
      "execution_count": 0,
      "outputs": [
        {
          "output_type": "stream",
          "text": [
            "[1, 4, 4, 11, 12, 23, 34, 49]\n",
            "[1, 4, 4, 11, 12, 23, 34, 49]\n"
          ],
          "name": "stdout"
        }
      ]
    },
    {
      "cell_type": "code",
      "metadata": {
        "id": "zEIWbEgKWaSX",
        "colab_type": "code",
        "outputId": "17e598c2-c1f1-4fcf-b54b-e9a1c0c66f25",
        "colab": {
          "base_uri": "https://localhost:8080/",
          "height": 214
        }
      },
      "source": [
        ""
      ],
      "execution_count": 0,
      "outputs": [
        {
          "output_type": "stream",
          "text": [
            "[1, 4, 11, 11, 12, 23, 34, 49]\n"
          ],
          "name": "stdout"
        },
        {
          "output_type": "error",
          "ename": "NameError",
          "evalue": "ignored",
          "traceback": [
            "\u001b[0;31m---------------------------------------------------------------------------\u001b[0m",
            "\u001b[0;31mNameError\u001b[0m                                 Traceback (most recent call last)",
            "\u001b[0;32m<ipython-input-21-b2ccddf6ce19>\u001b[0m in \u001b[0;36m<module>\u001b[0;34m()\u001b[0m\n\u001b[1;32m     14\u001b[0m \u001b[0ma\u001b[0m\u001b[0;34m=\u001b[0m\u001b[0;34m[\u001b[0m\u001b[0;36m12\u001b[0m\u001b[0;34m,\u001b[0m \u001b[0;36m1\u001b[0m\u001b[0;34m,\u001b[0m \u001b[0;36m23\u001b[0m\u001b[0;34m,\u001b[0m \u001b[0;36m4\u001b[0m\u001b[0;34m,\u001b[0m \u001b[0;36m34\u001b[0m\u001b[0;34m,\u001b[0m \u001b[0;36m11\u001b[0m\u001b[0;34m,\u001b[0m \u001b[0;36m49\u001b[0m\u001b[0;34m,\u001b[0m \u001b[0;36m11\u001b[0m\u001b[0;34m]\u001b[0m\u001b[0;34m\u001b[0m\u001b[0;34m\u001b[0m\u001b[0m\n\u001b[1;32m     15\u001b[0m \u001b[0mcountingsort\u001b[0m\u001b[0;34m(\u001b[0m\u001b[0ma\u001b[0m\u001b[0;34m)\u001b[0m\u001b[0;34m\u001b[0m\u001b[0;34m\u001b[0m\u001b[0m\n\u001b[0;32m---> 16\u001b[0;31m \u001b[0minsertsort\u001b[0m\u001b[0;34m(\u001b[0m\u001b[0ma\u001b[0m\u001b[0;34m)\u001b[0m\u001b[0;34m\u001b[0m\u001b[0;34m\u001b[0m\u001b[0m\n\u001b[0m",
            "\u001b[0;31mNameError\u001b[0m: name 'insertsort' is not defined"
          ]
        }
      ]
    }
  ]
}